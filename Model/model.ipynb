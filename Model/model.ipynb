{
  "nbformat": 4,
  "nbformat_minor": 0,
  "metadata": {
    "colab": {
      "provenance": []
    },
    "kernelspec": {
      "name": "python3",
      "display_name": "Python 3"
    },
    "language_info": {
      "name": "python"
    }
  },
  "cells": [
    {
      "cell_type": "code",
      "source": [
        "!pip install pyngrok\n",
        "!ngrok config add-authtoken <TOKEN>"
      ],
      "metadata": {
        "colab": {
          "base_uri": "https://localhost:8080/"
        },
        "id": "MkypBS8IhNR-",
        "outputId": "94e9bc82-0ed8-4b58-af8f-771f9264afce"
      },
      "execution_count": 1,
      "outputs": [
        {
          "output_type": "stream",
          "name": "stdout",
          "text": [
            "Requirement already satisfied: pyngrok in /usr/local/lib/python3.10/dist-packages (7.1.6)\n",
            "Requirement already satisfied: PyYAML>=5.1 in /usr/local/lib/python3.10/dist-packages (from pyngrok) (6.0.1)\n",
            "Authtoken saved to configuration file: /root/.config/ngrok/ngrok.yml\n"
          ]
        }
      ]
    },
    {
      "cell_type": "code",
      "source": [
        "%%writefile main.py\n",
        "\n",
        "import json\n",
        "import random\n",
        "from http.server import BaseHTTPRequestHandler, HTTPServer\n",
        "\n",
        "class SimpleHTTPRequestHandler(BaseHTTPRequestHandler):\n",
        "    def do_GET(self):\n",
        "        self.send_response(200)\n",
        "        self.send_header('Content-type', 'text/plain')\n",
        "        self.end_headers()\n",
        "        self.wfile.write(b'OK')\n",
        "\n",
        "    def do_POST(self):\n",
        "        content_length = int(self.headers['Content-Length'])\n",
        "        post_data = self.rfile.read(content_length).decode('utf-8')\n",
        "        response_data = self.process_post_data(post_data)\n",
        "\n",
        "        self.send_response(200)\n",
        "        self.send_header('Content-type', 'application/json')\n",
        "        self.end_headers()\n",
        "        self.wfile.write(response_data)\n",
        "\n",
        "    def process_post_data(self, post_data):\n",
        "        vulnerable = random.choices([True, False], weights=[3, 97])[0]\n",
        "\n",
        "        response_data = json.dumps({'vulnerable': vulnerable}).encode('utf-8')\n",
        "        return response_data\n",
        "\n",
        "def run_server():\n",
        "    server_address = ('', 8000)\n",
        "    httpd = HTTPServer(server_address, SimpleHTTPRequestHandler)\n",
        "    httpd.serve_forever()\n",
        "\n",
        "if __name__ == '__main__':\n",
        "    run_server()\n"
      ],
      "metadata": {
        "colab": {
          "base_uri": "https://localhost:8080/"
        },
        "id": "Sw4Ho6_nozjs",
        "outputId": "f6c4b8f9-d28a-443d-8ad9-3b1375b1304c"
      },
      "execution_count": 2,
      "outputs": [
        {
          "output_type": "stream",
          "name": "stdout",
          "text": [
            "Overwriting main.py\n"
          ]
        }
      ]
    },
    {
      "cell_type": "code",
      "source": [
        "import os\n",
        "import asyncio\n",
        "\n",
        "async def run_process(cmd):\n",
        "    p = await asyncio.subprocess.create_subprocess_exec(\n",
        "        *cmd,\n",
        "        stdout=asyncio.subprocess.PIPE,\n",
        "        stderr=asyncio.subprocess.PIPE,\n",
        "    )\n",
        "\n",
        "    async def pipe(lines):\n",
        "        async for line in lines:\n",
        "            decoded_line = line.strip().decode('utf-8')\n",
        "            if 'ngrok' in decoded_line and \"url\" in decoded_line:\n",
        "                model_endpoint_url = decoded_line.split(\"url=\")[-1]\n",
        "                print(f\"MODEL_ENDPOINT_URL={model_endpoint_url}\")\n",
        "\n",
        "    await asyncio.gather(\n",
        "        pipe(p.stdout),\n",
        "        pipe(p.stderr),\n",
        "    )\n",
        "\n",
        "await asyncio.gather(\n",
        "    run_process(['python', 'main.py']),\n",
        "    run_process(['ngrok', 'http', '--log', 'stderr', '8000']),\n",
        ")\n"
      ],
      "metadata": {
        "colab": {
          "base_uri": "https://localhost:8080/"
        },
        "id": "mRpLb8-ElBSg",
        "outputId": "5c3a9a56-edbb-43f8-9cb2-34db64e593c6"
      },
      "execution_count": null,
      "outputs": [
        {
          "output_type": "stream",
          "name": "stdout",
          "text": [
            "MODEL_ENDPOINT_URL=https://6e60-34-145-121-48.ngrok-free.app\n"
          ]
        }
      ]
    }
  ]
}